{
 "cells": [
  {
   "cell_type": "code",
   "execution_count": null,
   "id": "6d3ad777-a0d7-4efa-8221-4f1d5bb8268a",
   "metadata": {},
   "outputs": [],
   "source": [
    "models=[f.name for f in os.scandir('output') if f.is_dir()]\n",
    "pcode_li=['CN032', 'CN033', 'CN034', 'CN036', 'CN042', 'CN043']\n",
    "\n",
    "pr_hist={}\n",
    "\n",
    "def load_model_data(model):\n",
    "    return model, historical(model, 'pr', 'time', cutoff=1980)\n",
    "\n",
    "# Using a process pool to execute tasks concurrently\n",
    "with concurrent.futures.ThreadPoolExecutor() as executor:\n",
    "    # Create a future object for each model\n",
    "    futures = {executor.submit(load_model_data, model): model for model in models}\n",
    "\n",
    "    for future in concurrent.futures.as_completed(futures):\n",
    "        try:\n",
    "            model, result = future.result()\n",
    "            tasmax_hist[model] = result\n",
    "        except Exception as exc:\n",
    "            raise RuntimeError(f'Error at {model}.')\n",
    "\n",
    "print(\"Task Completed.\")"
   ]
  }
 ],
 "metadata": {
  "kernelspec": {
   "display_name": "Python 3 (ipykernel)",
   "language": "python",
   "name": "python3"
  },
  "language_info": {
   "codemirror_mode": {
    "name": "ipython",
    "version": 3
   },
   "file_extension": ".py",
   "mimetype": "text/x-python",
   "name": "python",
   "nbconvert_exporter": "python",
   "pygments_lexer": "ipython3",
   "version": "3.11.7"
  }
 },
 "nbformat": 4,
 "nbformat_minor": 5
}
